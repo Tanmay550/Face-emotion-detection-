{
 "cells": [
  {
   "cell_type": "code",
   "execution_count": 1,
   "id": "c8661db2-7053-4b8c-97ed-7beee5d2dea4",
   "metadata": {},
   "outputs": [],
   "source": [
    "import os\n",
    "import time\n",
    "import shutil\n",
    "import pathlib\n",
    "import itertools\n",
    "import cv2\n",
    "from PIL import Image\n",
    "import tensorflow as tf\n",
    "from sklearn.preprocessing import LabelEncoder\n",
    "import pandas as pd\n",
    "import numpy as np\n",
    "import matplotlib.pyplot as plt\n",
    "from tensorflow.keras.layers.experimental.preprocessing import RandomFlip, RandomRotation\n",
    "import tensorflow.keras.layers as tfl"
   ]
  },
  {
   "cell_type": "code",
   "execution_count": 2,
   "id": "b8dbcb64-fd89-4fd6-a149-62f812bfe050",
   "metadata": {},
   "outputs": [],
   "source": [
    "def data_augmenter():\n",
    "    data_augmentation = tf.keras.Sequential([\n",
    "        #RandomRotation(0.2)\n",
    "        #RandomFlip('horizontal')\n",
    "    ])\n",
    "    return data_augmentation"
   ]
  },
  {
   "cell_type": "code",
   "execution_count": 3,
   "id": "7c61d2e9-3f13-479f-bc83-3d996232def5",
   "metadata": {},
   "outputs": [],
   "source": [
    "def load_and_preprocess_image(img_path):\n",
    "    img = cv2.imread(img_path) \n",
    "    img = cv2.cvtColor(img, cv2.COLOR_BGR2RGB)\n",
    "    img = cv2.resize(img, (48, 48))\n",
    "    img =  img.astype(np.float32) / 255.0\n",
    "    return img"
   ]
  },
  {
   "cell_type": "code",
   "execution_count": 4,
   "id": "94912b1e-ade0-4155-bf43-500088cf29a7",
   "metadata": {},
   "outputs": [],
   "source": [
    "data_augmentation = data_augmenter()"
   ]
  },
  {
   "cell_type": "code",
   "execution_count": 5,
   "id": "146d6bcb-ee09-4a60-9aa8-b40241404cdd",
   "metadata": {},
   "outputs": [],
   "source": [
    "train_dataset_path = 'data/train'\n",
    "train_data = []\n",
    "train_labels = []\n",
    "i = 0\n",
    "\n",
    "for class_name in os.listdir(train_dataset_path):\n",
    "    class_dir = os.path.join(train_dataset_path, class_name)\n",
    "    for img_name in os.listdir(class_dir):\n",
    "        img_path = os.path.join(class_dir, img_name)\n",
    "       # if i % 5 == 0:\n",
    "           # train_data.append(data_augmentation(load_and_preprocess_image(img_path)))\n",
    "        #else:\n",
    "        train_data.append(load_and_preprocess_image(img_path))\n",
    "        train_labels.append(class_name)\n",
    "        i += 1"
   ]
  },
  {
   "cell_type": "code",
   "execution_count": 6,
   "id": "58715fa9-df80-4a97-b048-aa91c41d4d18",
   "metadata": {},
   "outputs": [],
   "source": [
    "test_dataset_path = 'data/test'\n",
    "test_data = []\n",
    "test_labels = []\n",
    "batch_size = 32\n",
    "\n",
    "for class_name in os.listdir(test_dataset_path):\n",
    "    class_dir = os.path.join(test_dataset_path, class_name)\n",
    "    for img_name in os.listdir(class_dir):\n",
    "        img_path = os.path.join(class_dir, img_name)\n",
    "        test_data.append(load_and_preprocess_image(img_path))\n",
    "        test_labels.append(class_name)"
   ]
  },
  {
   "cell_type": "code",
   "execution_count": 7,
   "id": "c6df30de-525c-419d-96b7-268bf4009efd",
   "metadata": {},
   "outputs": [],
   "source": [
    "# Create DataFrames\n",
    "train_df = pd.DataFrame({'data': train_data, 'label': train_labels})\n",
    "test_df = pd.DataFrame({'data': test_data, 'label': test_labels})"
   ]
  },
  {
   "cell_type": "code",
   "execution_count": 8,
   "id": "82085806-3aa9-4df8-8ae5-cdecab97db43",
   "metadata": {},
   "outputs": [],
   "source": [
    "def display_random_images(images, labels, num_images=5):\n",
    "    num_total_images = len(images)\n",
    "    random_indices = np.random.choice(num_total_images, size=num_images, replace=False)\n",
    "\n",
    "    fig, axes = plt.subplots(1, num_images, figsize=(20, 20))\n",
    "    for i, idx in enumerate(random_indices):\n",
    "        axes[i].imshow(images[idx])\n",
    "        axes[i].set_title(labels[idx])\n",
    "        axes[i].axis('off')\n",
    "    plt.tight_layout()\n",
    "    plt.show()"
   ]
  },
  {
   "cell_type": "code",
   "execution_count": 10,
   "id": "e4a86fe9-245f-453b-bc78-539e76f13eba",
   "metadata": {},
   "outputs": [],
   "source": [
    "label_encoder = LabelEncoder()\n",
    "train_labels_encoded = label_encoder.fit_transform(train_labels)\n",
    "\n",
    "#train_labels_categorical = to_categorical(train_labels_encoded)"
   ]
  },
  {
   "cell_type": "code",
   "execution_count": 11,
   "id": "5ab49e1f-7627-4fcc-8e34-5ff110cd0660",
   "metadata": {},
   "outputs": [
    {
     "data": {
      "image/png": "[encoded data removed]",
      "text/plain": [
       "<Figure size 2000x2000 with 5 Axes>"
      ]
     },
     "metadata": {},
     "output_type": "display_data"
    }
   ],
   "source": [
    "display_random_images(train_data, train_labels)"
   ]
  },
  {
   "cell_type": "code",
   "execution_count": 12,
   "id": "af3d1b04-5334-413c-9b40-a49f74c7c2da",
   "metadata": {},
   "outputs": [],
   "source": [
    "IMG_SIZE = (48,48)\n",
    "IMG_SHAPE = IMG_SIZE + (3,)\n",
    "#base_model = tf.keras.applications.vgg16.VGG16(include_top=False, input_shape=IMG_SHAPE, weights='imagenet')\n",
    "\n",
    "emotion_model = tf.keras.Sequential([\n",
    "        tfl.ZeroPadding2D(padding = 3,input_shape=(48, 48, 3), data_format=\"channels_last\"),\n",
    "        tfl.Conv2D(32,7,1),\n",
    "        tfl.BatchNormalization(axis = 3),\n",
    "        tfl.ReLU(),\n",
    "        tfl.MaxPool2D(),\n",
    "        tfl.Flatten(),\n",
    "        tfl.Dense(7, activation = \"softmax\")\n",
    "    ])\n",
    "\n",
    "\n"
   ]
  },
  {
   "cell_type": "code",
   "execution_count": 13,
   "id": "0542663a-3b30-4f4e-a549-99ca8383a7b9",
   "metadata": {},
   "outputs": [
    {
     "name": "stdout",
     "output_type": "stream",
     "text": [
      "Model: \"sequential_1\"\n",
      "_________________________________________________________________\n",
      " Layer (type)                Output Shape              Param #   \n",
      "=================================================================\n",
      " zero_padding2d (ZeroPadding  (None, 54, 54, 3)        0         \n",
      " 2D)                                                             \n",
      "                                                                 \n",
      " conv2d (Conv2D)             (None, 48, 48, 32)        4736      \n",
      "                                                                 \n",
      " batch_normalization (BatchN  (None, 48, 48, 32)       128       \n",
      " ormalization)                                                   \n",
      "                                                                 \n",
      " re_lu (ReLU)                (None, 48, 48, 32)        0         \n",
      "                                                                 \n",
      " max_pooling2d (MaxPooling2D  (None, 24, 24, 32)       0         \n",
      " )                                                               \n",
      "                                                                 \n",
      " flatten (Flatten)           (None, 18432)             0         \n",
      "                                                                 \n",
      " dense (Dense)               (None, 7)                 129031    \n",
      "                                                                 \n",
      "=================================================================\n",
      "Total params: 133,895\n",
      "Trainable params: 133,831\n",
      "Non-trainable params: 64\n",
      "_________________________________________________________________\n"
     ]
    }
   ],
   "source": [
    "emotion_model.summary()"
   ]
  },
  {
   "cell_type": "code",
   "execution_count": 14,
   "id": "c1829451-ccce-4d3b-98c0-bf6b6ca22b99",
   "metadata": {},
   "outputs": [],
   "source": [
    "emotion_model.compile(optimizer='adam',\n",
    "                   loss='sparse_categorical_crossentropy',\n",
    "                   metrics=['accuracy'])"
   ]
  },
  {
   "cell_type": "code",
   "execution_count": 15,
   "id": "6d352e15-8f16-45cd-bff4-88f634697ae1",
   "metadata": {},
   "outputs": [
    {
     "name": "stdout",
     "output_type": "stream",
     "text": [
      "Model: \"sequential_1\"\n",
      "_________________________________________________________________\n",
      " Layer (type)                Output Shape              Param #   \n",
      "=================================================================\n",
      " zero_padding2d (ZeroPadding  (None, 54, 54, 3)        0         \n",
      " 2D)                                                             \n",
      "                                                                 \n",
      " conv2d (Conv2D)             (None, 48, 48, 32)        4736      \n",
      "                                                                 \n",
      " batch_normalization (BatchN  (None, 48, 48, 32)       128       \n",
      " ormalization)                                                   \n",
      "                                                                 \n",
      " re_lu (ReLU)                (None, 48, 48, 32)        0         \n",
      "                                                                 \n",
      " max_pooling2d (MaxPooling2D  (None, 24, 24, 32)       0         \n",
      " )                                                               \n",
      "                                                                 \n",
      " flatten (Flatten)           (None, 18432)             0         \n",
      "                                                                 \n",
      " dense (Dense)               (None, 7)                 129031    \n",
      "                                                                 \n",
      "=================================================================\n",
      "Total params: 133,895\n",
      "Trainable params: 133,831\n",
      "Non-trainable params: 64\n",
      "_________________________________________________________________\n"
     ]
    }
   ],
   "source": [
    "emotion_model.summary()"
   ]
  },
  {
   "cell_type": "code",
   "execution_count": 16,
   "id": "9123ffe5-888b-4809-8416-ac517266a17b",
   "metadata": {},
   "outputs": [
    {
     "name": "stdout",
     "output_type": "stream",
     "text": [
      "Epoch 1/10\n",
      "3338/3338 [==============================] - 46s 8ms/step - loss: 1.7373 - accuracy: 0.4097\n",
      "Epoch 2/10\n",
      "3338/3338 [==============================] - 27s 8ms/step - loss: 1.3432 - accuracy: 0.5040\n",
      "Epoch 3/10\n",
      "3338/3338 [==============================] - 27s 8ms/step - loss: 1.2336 - accuracy: 0.5474\n",
      "Epoch 4/10\n",
      "3338/3338 [==============================] - 27s 8ms/step - loss: 1.1235 - accuracy: 0.5921\n",
      "Epoch 5/10\n",
      "3338/3338 [==============================] - 27s 8ms/step - loss: 1.0249 - accuracy: 0.6306\n",
      "Epoch 6/10\n",
      "3338/3338 [==============================] - 27s 8ms/step - loss: 0.9357 - accuracy: 0.6654\n",
      "Epoch 7/10\n",
      "3338/3338 [==============================] - 27s 8ms/step - loss: 0.8562 - accuracy: 0.6945\n",
      "Epoch 8/10\n",
      "3338/3338 [==============================] - 27s 8ms/step - loss: 0.7875 - accuracy: 0.7221\n",
      "Epoch 9/10\n",
      "3338/3338 [==============================] - 27s 8ms/step - loss: 0.7319 - accuracy: 0.7397\n",
      "Epoch 10/10\n",
      "3338/3338 [==============================] - 27s 8ms/step - loss: 0.6821 - accuracy: 0.7611\n"
     ]
    },
    {
     "data": {
      "text/plain": [
       "<keras.callbacks.History at 0x23884c3a230>"
      ]
     },
     "execution_count": 16,
     "metadata": {},
     "output_type": "execute_result"
    }
   ],
   "source": [
    "emotion_model.fit(np.array(train_data), np.array(train_labels_encoded), epochs=10, batch_size=16)"
   ]
  },
  {
   "cell_type": "code",
   "execution_count": 19,
   "id": "c6aeb49e-725c-4896-a21b-bf3cfcdc955c",
   "metadata": {},
   "outputs": [
    {
     "ename": "InternalError",
     "evalue": "Failed copying input tensor from /job:localhost/replica:0/task:0/device:CPU:0 to /job:localhost/replica:0/task:0/device:GPU:0 in order to run _EagerConst: Dst tensor is not initialized.",
     "output_type": "error",
     "traceback": [
      "\u001b[1;31m---------------------------------------------------------------------------\u001b[0m",
      "\u001b[1;31mInternalError\u001b[0m                             Traceback (most recent call last)",
      "Cell \u001b[1;32mIn[19], line 2\u001b[0m\n\u001b[0;32m      1\u001b[0m test_labels_encoded \u001b[38;5;241m=\u001b[39m label_encoder\u001b[38;5;241m.\u001b[39mfit_transform(test_labels)\n\u001b[1;32m----> 2\u001b[0m \u001b[43memotion_model\u001b[49m\u001b[38;5;241;43m.\u001b[39;49m\u001b[43mevaluate\u001b[49m\u001b[43m(\u001b[49m\u001b[43mnp\u001b[49m\u001b[38;5;241;43m.\u001b[39;49m\u001b[43marray\u001b[49m\u001b[43m(\u001b[49m\u001b[43mtest_data\u001b[49m\u001b[43m)\u001b[49m\u001b[43m,\u001b[49m\u001b[43m \u001b[49m\u001b[43mnp\u001b[49m\u001b[38;5;241;43m.\u001b[39;49m\u001b[43marray\u001b[49m\u001b[43m(\u001b[49m\u001b[43mtest_labels_encoded\u001b[49m\u001b[43m)\u001b[49m\u001b[43m)\u001b[49m\n",
      "File \u001b[1;32m~\\AppData\\Roaming\\Python\\Python310\\site-packages\\keras\\utils\\traceback_utils.py:70\u001b[0m, in \u001b[0;36mfilter_traceback.<locals>.error_handler\u001b[1;34m(*args, **kwargs)\u001b[0m\n\u001b[0;32m     67\u001b[0m     filtered_tb \u001b[38;5;241m=\u001b[39m _process_traceback_frames(e\u001b[38;5;241m.\u001b[39m__traceback__)\n\u001b[0;32m     68\u001b[0m     \u001b[38;5;66;03m# To get the full stack trace, call:\u001b[39;00m\n\u001b[0;32m     69\u001b[0m     \u001b[38;5;66;03m# `tf.debugging.disable_traceback_filtering()`\u001b[39;00m\n\u001b[1;32m---> 70\u001b[0m     \u001b[38;5;28;01mraise\u001b[39;00m e\u001b[38;5;241m.\u001b[39mwith_traceback(filtered_tb) \u001b[38;5;28;01mfrom\u001b[39;00m \u001b[38;5;28;01mNone\u001b[39;00m\n\u001b[0;32m     71\u001b[0m \u001b[38;5;28;01mfinally\u001b[39;00m:\n\u001b[0;32m     72\u001b[0m     \u001b[38;5;28;01mdel\u001b[39;00m filtered_tb\n",
      "File \u001b[1;32m~\\AppData\\Roaming\\Python\\Python310\\site-packages\\tensorflow\\python\\framework\\constant_op.py:102\u001b[0m, in \u001b[0;36mconvert_to_eager_tensor\u001b[1;34m(value, ctx, dtype)\u001b[0m\n\u001b[0;32m    100\u001b[0m     dtype \u001b[38;5;241m=\u001b[39m dtypes\u001b[38;5;241m.\u001b[39mas_dtype(dtype)\u001b[38;5;241m.\u001b[39mas_datatype_enum\n\u001b[0;32m    101\u001b[0m ctx\u001b[38;5;241m.\u001b[39mensure_initialized()\n\u001b[1;32m--> 102\u001b[0m \u001b[38;5;28;01mreturn\u001b[39;00m \u001b[43mops\u001b[49m\u001b[38;5;241;43m.\u001b[39;49m\u001b[43mEagerTensor\u001b[49m\u001b[43m(\u001b[49m\u001b[43mvalue\u001b[49m\u001b[43m,\u001b[49m\u001b[43m \u001b[49m\u001b[43mctx\u001b[49m\u001b[38;5;241;43m.\u001b[39;49m\u001b[43mdevice_name\u001b[49m\u001b[43m,\u001b[49m\u001b[43m \u001b[49m\u001b[43mdtype\u001b[49m\u001b[43m)\u001b[49m\n",
      "\u001b[1;31mInternalError\u001b[0m: Failed copying input tensor from /job:localhost/replica:0/task:0/device:CPU:0 to /job:localhost/replica:0/task:0/device:GPU:0 in order to run _EagerConst: Dst tensor is not initialized."
     ]
    }
   ],
   "source": [
    "test_labels_encoded = label_encoder.fit_transform(test_labels)\n",
    "emotion_model.evaluate(np.array(test_data), np.array(test_labels_encoded))"
   ]
  },
  {
   "cell_type": "code",
   "execution_count": null,
   "id": "389f6cf9-4cff-4734-ba11-3c13543252cf",
   "metadata": {},
   "outputs": [],
   "source": []
  }
 ],
 "metadata": {
  "kernelspec": {
   "display_name": "Python 3 (ipykernel)",
   "language": "python",
   "name": "python3"
  },
  "language_info": {
   "codemirror_mode": {
    "name": "ipython",
    "version": 3
   },
   "file_extension": ".py",
   "mimetype": "text/x-python",
   "name": "python",
   "nbconvert_exporter": "python",
   "pygments_lexer": "ipython3",
   "version": "3.10.11"
  }
 },
 "nbformat": 4,
 "nbformat_minor": 5
}
